{
  "nbformat": 4,
  "nbformat_minor": 0,
  "metadata": {
    "colab": {
      "provenance": []
    },
    "kernelspec": {
      "name": "python3",
      "display_name": "Python 3"
    },
    "language_info": {
      "name": "python"
    }
  },
  "cells": [
    {
      "cell_type": "markdown",
      "source": [
        "Спасибо за шаблон Дмитрию Игнатову!"
      ],
      "metadata": {
        "id": "TeBaCHCmXFl6"
      }
    },
    {
      "cell_type": "markdown",
      "source": [
        "Ссылка на отобранные кадры (11 шт): https://drive.google.com/drive/folders/1DR4GQnkNpCRvkVOSjZS0fmwno84kViH2?usp=sharing"
      ],
      "metadata": {
        "id": "40HsnTkkC7LK"
      }
    },
    {
      "cell_type": "code",
      "execution_count": null,
      "metadata": {
        "id": "Bd65EJPEDynE"
      },
      "outputs": [],
      "source": [
        "import cv2\n",
        "import os\n",
        "from google.colab import drive"
      ]
    },
    {
      "cell_type": "code",
      "source": [
        "drive.mount('/content/drive')"
      ],
      "metadata": {
        "colab": {
          "base_uri": "https://localhost:8080/"
        },
        "id": "bMwswtkgo7gI",
        "outputId": "eb89d4c4-9a8c-4e44-d722-8d0712ba18cd"
      },
      "execution_count": null,
      "outputs": [
        {
          "output_type": "stream",
          "name": "stdout",
          "text": [
            "Mounted at /content/drive\n"
          ]
        }
      ]
    },
    {
      "cell_type": "code",
      "source": [
        "cap = cv2.VideoCapture(\"/content/drive/MyDrive/!Стаж2.Дрон/Video/cut7_m2.mp4\")\n",
        "fps = cap.get(cv2.CAP_PROP_FPS)\n",
        "frames = cap.get(cv2.CAP_PROP_FRAME_COUNT)\n",
        "print(f'Файл {cap} содержит всего {frames} кадров ({fps} кадров/с).')\n",
        "file_count = 0"
      ],
      "metadata": {
        "colab": {
          "base_uri": "https://localhost:8080/"
        },
        "id": "oEb1O75Fn0Ri",
        "outputId": "7c2907ba-680d-49fb-93e1-734356062d2f"
      },
      "execution_count": null,
      "outputs": [
        {
          "output_type": "stream",
          "name": "stdout",
          "text": [
            "Файл < cv2.VideoCapture 0x79cce6971c50> содержит всего 316.0 кадров (29.97002997002997 кадров/с).\n"
          ]
        }
      ]
    },
    {
      "cell_type": "code",
      "source": [
        "# Создаем папку \"Frames\", если она не существует\n",
        "if not os.path.exists(\"/content/drive/MyDrive/!Стаж2.Дрон/Frames\"):\n",
        "    os.makedirs(\"/content/drive/MyDrive/!Стаж2.Дрон/Frames\")"
      ],
      "metadata": {
        "id": "-KwmoptFmPT7"
      },
      "execution_count": null,
      "outputs": []
    },
    {
      "cell_type": "code",
      "source": [
        "while(cap.isOpened()):\n",
        "    ret, frame = cap.read()\n",
        "    if ret:\n",
        "        # Счетчик обработанных кадров\n",
        "        file_count += 1\n",
        "        # отбираем каждый 5-й кадр\n",
        "        if file_count % 5 == 0:\n",
        "          print(f'Кадр {file_count}')\n",
        "          # Сохранение кадров на диск\n",
        "          writefile = f'/content/drive/MyDrive/!Стаж2.Дрон/Frames/{file_count}_tdm.jpg'\n",
        "          cv2.imwrite(writefile, frame)\n",
        "    else:\n",
        "      break\n",
        "cv2.destroyAllWindows()\n",
        "cap.release()"
      ],
      "metadata": {
        "colab": {
          "base_uri": "https://localhost:8080/"
        },
        "id": "tSLxG-OzppKC",
        "outputId": "57010b42-e59b-4040-c2b5-6bca2023bbf6"
      },
      "execution_count": null,
      "outputs": [
        {
          "output_type": "stream",
          "name": "stdout",
          "text": [
            "Кадр 5\n",
            "Кадр 10\n",
            "Кадр 15\n",
            "Кадр 20\n",
            "Кадр 25\n",
            "Кадр 30\n",
            "Кадр 35\n",
            "Кадр 40\n",
            "Кадр 45\n",
            "Кадр 50\n",
            "Кадр 55\n",
            "Кадр 60\n",
            "Кадр 65\n",
            "Кадр 70\n",
            "Кадр 75\n",
            "Кадр 80\n",
            "Кадр 85\n",
            "Кадр 90\n",
            "Кадр 95\n",
            "Кадр 100\n",
            "Кадр 105\n",
            "Кадр 110\n",
            "Кадр 115\n",
            "Кадр 120\n",
            "Кадр 125\n",
            "Кадр 130\n",
            "Кадр 135\n",
            "Кадр 140\n",
            "Кадр 145\n",
            "Кадр 150\n",
            "Кадр 155\n",
            "Кадр 160\n",
            "Кадр 165\n",
            "Кадр 170\n",
            "Кадр 175\n",
            "Кадр 180\n",
            "Кадр 185\n",
            "Кадр 190\n",
            "Кадр 195\n",
            "Кадр 200\n",
            "Кадр 205\n",
            "Кадр 210\n",
            "Кадр 215\n",
            "Кадр 220\n",
            "Кадр 225\n",
            "Кадр 230\n",
            "Кадр 235\n",
            "Кадр 240\n",
            "Кадр 245\n",
            "Кадр 250\n",
            "Кадр 255\n",
            "Кадр 260\n",
            "Кадр 265\n",
            "Кадр 270\n",
            "Кадр 275\n",
            "Кадр 280\n",
            "Кадр 285\n",
            "Кадр 290\n",
            "Кадр 295\n",
            "Кадр 300\n",
            "Кадр 305\n",
            "Кадр 310\n",
            "Кадр 315\n"
          ]
        }
      ]
    },
    {
      "cell_type": "code",
      "source": [],
      "metadata": {
        "id": "qd093m5_qXGO"
      },
      "execution_count": null,
      "outputs": []
    }
  ]
}
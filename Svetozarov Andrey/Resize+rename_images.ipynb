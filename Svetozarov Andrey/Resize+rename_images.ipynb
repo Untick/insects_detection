{
  "nbformat": 4,
  "nbformat_minor": 0,
  "metadata": {
    "colab": {
      "provenance": [],
      "authorship_tag": "ABX9TyNuQyzn0Y7ipQgSdWOoiIOV",
      "include_colab_link": true
    },
    "kernelspec": {
      "name": "python3",
      "display_name": "Python 3"
    },
    "language_info": {
      "name": "python"
    }
  },
  "cells": [
    {
      "cell_type": "markdown",
      "metadata": {
        "id": "view-in-github",
        "colab_type": "text"
      },
      "source": [
        "<a href=\"https://colab.research.google.com/github/Untick/insects_detection/blob/main/Svetozarov%20Andrey/Resize%2Brename_images.ipynb\" target=\"_parent\"><img src=\"https://colab.research.google.com/assets/colab-badge.svg\" alt=\"Open In Colab\"/></a>"
      ]
    },
    {
      "cell_type": "code",
      "execution_count": 2,
      "metadata": {
        "colab": {
          "base_uri": "https://localhost:8080/"
        },
        "id": "5B-ygiRZatho",
        "outputId": "aa4c4e0b-9dfa-4d8a-f714-a29113ef4a65"
      },
      "outputs": [
        {
          "output_type": "stream",
          "name": "stdout",
          "text": [
            "Processed frame_0001.jpg -> 0.jpeg\n",
            "Processed frame_0258.jpg -> 1.jpeg\n",
            "Processed frame_0275.jpg -> 2.jpeg\n",
            "Processed frame_0387.jpg -> 3.jpeg\n",
            "All images resized and renamed.\n"
          ]
        }
      ],
      "source": [
        "from PIL import Image\n",
        "import os\n",
        "\n",
        "input_dir = \"Images1/\" # Нужно создать папку с таким именем и загрузить в него все картинки\n",
        "output_dir = \"ResizedImages/\" #Эта папка создастся автоматически. В нее будут загружены переименованные и переформатированнные картинки\n",
        "target_size = (100, 100) #задаем единый формат изображений\n",
        "output_format = \"JPEG\"  #задаем расширение для картинок\n",
        "\n",
        "if not os.path.exists(output_dir):\n",
        "    os.makedirs(output_dir)\n",
        "\n",
        "file_list = sorted([file for file in os.listdir(input_dir) if file.lower().endswith(('.jpg', '.gif'))])\n",
        "\n",
        "for idx, filename in enumerate(file_list):\n",
        "    input_path = os.path.join(input_dir, filename)\n",
        "    img = Image.open(input_path)\n",
        "    img = img.resize(target_size, Image.LANCZOS)  # Используйте LANCZOS для ресайза\n",
        "\n",
        "    output_filename = f\"{idx}.{output_format.lower()}\"  # Преобразуем формат в нижний регистр\n",
        "    output_path = os.path.join(output_dir, output_filename)\n",
        "    img.save(output_path, format=output_format)\n",
        "\n",
        "    print(f\"Processed {filename} -> {output_filename}\")\n",
        "\n",
        "print(\"Все файлы переименованы и переформатированы\")\n",
        "\n"
      ]
    }
  ]
}